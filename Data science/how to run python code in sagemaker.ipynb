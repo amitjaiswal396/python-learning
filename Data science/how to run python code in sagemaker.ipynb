{
 "cells": [
  {
   "cell_type": "code",
   "execution_count": 59,
   "metadata": {},
   "outputs": [],
   "source": [
    "import boto3\n",
    "import pandas as pd\n",
    "from sagemaker import get_execution_role\n",
    "\n",
    "role = get_execution_role()\n",
    "bucket='ammitest'\n",
    "data_key = 'data/PIF013333J6.csv'\n",
    "data_location = 's3://{}/{}'.format(bucket, data_key)\n",
    "\n"
   ]
  },
  {
   "cell_type": "code",
   "execution_count": 60,
   "metadata": {},
   "outputs": [],
   "source": [
    "df=pd.read_csv(data_location)"
   ]
  },
  {
   "cell_type": "code",
   "execution_count": 61,
   "metadata": {},
   "outputs": [
    {
     "data": {
      "text/html": [
       "<div>\n",
       "<style scoped>\n",
       "    .dataframe tbody tr th:only-of-type {\n",
       "        vertical-align: middle;\n",
       "    }\n",
       "\n",
       "    .dataframe tbody tr th {\n",
       "        vertical-align: top;\n",
       "    }\n",
       "\n",
       "    .dataframe thead th {\n",
       "        text-align: right;\n",
       "    }\n",
       "</style>\n",
       "<table border=\"1\" class=\"dataframe\">\n",
       "  <thead>\n",
       "    <tr style=\"text-align: right;\">\n",
       "      <th></th>\n",
       "      <th>id</th>\n",
       "      <th>WRITESTAMP</th>\n",
       "      <th>SID</th>\n",
       "      <th>VALUE</th>\n",
       "      <th>TIMESTAMP</th>\n",
       "      <th>TIMEZONE</th>\n",
       "    </tr>\n",
       "  </thead>\n",
       "  <tbody>\n",
       "    <tr>\n",
       "      <th>0</th>\n",
       "      <td>PIF013333J6</td>\n",
       "      <td>2018-08-20T17:50:57Z</td>\n",
       "      <td>cfac45ee-95e8-4dc1-878a-9f404f7f9c99</td>\n",
       "      <td>0</td>\n",
       "      <td>2018-07-27T13:33:01Z</td>\n",
       "      <td>-5</td>\n",
       "    </tr>\n",
       "    <tr>\n",
       "      <th>1</th>\n",
       "      <td>PIF013333J6</td>\n",
       "      <td>2018-08-20T16:36:34Z</td>\n",
       "      <td>cfac45ee-95e8-4dc1-878a-9f404f7f9c99</td>\n",
       "      <td>0</td>\n",
       "      <td>2018-07-27T13:38:57Z</td>\n",
       "      <td>-5</td>\n",
       "    </tr>\n",
       "    <tr>\n",
       "      <th>2</th>\n",
       "      <td>PIF013333J6</td>\n",
       "      <td>2018-08-20T17:06:07Z</td>\n",
       "      <td>cfac45ee-95e8-4dc1-878a-9f404f7f9c99</td>\n",
       "      <td>0</td>\n",
       "      <td>2018-07-27T13:43:54Z</td>\n",
       "      <td>-5</td>\n",
       "    </tr>\n",
       "    <tr>\n",
       "      <th>3</th>\n",
       "      <td>PIF013333J6</td>\n",
       "      <td>2018-08-20T19:21:25Z</td>\n",
       "      <td>cfac45ee-95e8-4dc1-878a-9f404f7f9c99</td>\n",
       "      <td>0</td>\n",
       "      <td>2018-07-27T13:47:56Z</td>\n",
       "      <td>-5</td>\n",
       "    </tr>\n",
       "    <tr>\n",
       "      <th>4</th>\n",
       "      <td>PIF013333J6</td>\n",
       "      <td>2018-08-20T18:48:20Z</td>\n",
       "      <td>cfac45ee-95e8-4dc1-878a-9f404f7f9c99</td>\n",
       "      <td>0</td>\n",
       "      <td>2018-07-27T13:53:46Z</td>\n",
       "      <td>-5</td>\n",
       "    </tr>\n",
       "  </tbody>\n",
       "</table>\n",
       "</div>"
      ],
      "text/plain": [
       "            id            WRITESTAMP                                   SID  \\\n",
       "0  PIF013333J6  2018-08-20T17:50:57Z  cfac45ee-95e8-4dc1-878a-9f404f7f9c99   \n",
       "1  PIF013333J6  2018-08-20T16:36:34Z  cfac45ee-95e8-4dc1-878a-9f404f7f9c99   \n",
       "2  PIF013333J6  2018-08-20T17:06:07Z  cfac45ee-95e8-4dc1-878a-9f404f7f9c99   \n",
       "3  PIF013333J6  2018-08-20T19:21:25Z  cfac45ee-95e8-4dc1-878a-9f404f7f9c99   \n",
       "4  PIF013333J6  2018-08-20T18:48:20Z  cfac45ee-95e8-4dc1-878a-9f404f7f9c99   \n",
       "\n",
       "   VALUE             TIMESTAMP  TIMEZONE  \n",
       "0      0  2018-07-27T13:33:01Z        -5  \n",
       "1      0  2018-07-27T13:38:57Z        -5  \n",
       "2      0  2018-07-27T13:43:54Z        -5  \n",
       "3      0  2018-07-27T13:47:56Z        -5  \n",
       "4      0  2018-07-27T13:53:46Z        -5  "
      ]
     },
     "execution_count": 61,
     "metadata": {},
     "output_type": "execute_result"
    }
   ],
   "source": [
    "df.head()"
   ]
  },
  {
   "cell_type": "code",
   "execution_count": 62,
   "metadata": {},
   "outputs": [],
   "source": [
    "df['DATETIME'] = pd.to_datetime(df['TIMESTAMP'])"
   ]
  },
  {
   "cell_type": "code",
   "execution_count": 63,
   "metadata": {},
   "outputs": [],
   "source": [
    "df['DATE'] = df['DATETIME'].dt.date\n",
    "df['TIME'] = df['DATETIME'].dt.time"
   ]
  },
  {
   "cell_type": "code",
   "execution_count": 64,
   "metadata": {},
   "outputs": [
    {
     "data": {
      "text/html": [
       "<div>\n",
       "<style scoped>\n",
       "    .dataframe tbody tr th:only-of-type {\n",
       "        vertical-align: middle;\n",
       "    }\n",
       "\n",
       "    .dataframe tbody tr th {\n",
       "        vertical-align: top;\n",
       "    }\n",
       "\n",
       "    .dataframe thead th {\n",
       "        text-align: right;\n",
       "    }\n",
       "</style>\n",
       "<table border=\"1\" class=\"dataframe\">\n",
       "  <thead>\n",
       "    <tr style=\"text-align: right;\">\n",
       "      <th></th>\n",
       "      <th>id</th>\n",
       "      <th>WRITESTAMP</th>\n",
       "      <th>SID</th>\n",
       "      <th>VALUE</th>\n",
       "      <th>TIMESTAMP</th>\n",
       "      <th>TIMEZONE</th>\n",
       "      <th>DATETIME</th>\n",
       "      <th>DATE</th>\n",
       "      <th>TIME</th>\n",
       "    </tr>\n",
       "  </thead>\n",
       "  <tbody>\n",
       "    <tr>\n",
       "      <th>0</th>\n",
       "      <td>PIF013333J6</td>\n",
       "      <td>2018-08-20T17:50:57Z</td>\n",
       "      <td>cfac45ee-95e8-4dc1-878a-9f404f7f9c99</td>\n",
       "      <td>0</td>\n",
       "      <td>2018-07-27T13:33:01Z</td>\n",
       "      <td>-5</td>\n",
       "      <td>2018-07-27 13:33:01</td>\n",
       "      <td>2018-07-27</td>\n",
       "      <td>13:33:01</td>\n",
       "    </tr>\n",
       "    <tr>\n",
       "      <th>1</th>\n",
       "      <td>PIF013333J6</td>\n",
       "      <td>2018-08-20T16:36:34Z</td>\n",
       "      <td>cfac45ee-95e8-4dc1-878a-9f404f7f9c99</td>\n",
       "      <td>0</td>\n",
       "      <td>2018-07-27T13:38:57Z</td>\n",
       "      <td>-5</td>\n",
       "      <td>2018-07-27 13:38:57</td>\n",
       "      <td>2018-07-27</td>\n",
       "      <td>13:38:57</td>\n",
       "    </tr>\n",
       "    <tr>\n",
       "      <th>2</th>\n",
       "      <td>PIF013333J6</td>\n",
       "      <td>2018-08-20T17:06:07Z</td>\n",
       "      <td>cfac45ee-95e8-4dc1-878a-9f404f7f9c99</td>\n",
       "      <td>0</td>\n",
       "      <td>2018-07-27T13:43:54Z</td>\n",
       "      <td>-5</td>\n",
       "      <td>2018-07-27 13:43:54</td>\n",
       "      <td>2018-07-27</td>\n",
       "      <td>13:43:54</td>\n",
       "    </tr>\n",
       "    <tr>\n",
       "      <th>3</th>\n",
       "      <td>PIF013333J6</td>\n",
       "      <td>2018-08-20T19:21:25Z</td>\n",
       "      <td>cfac45ee-95e8-4dc1-878a-9f404f7f9c99</td>\n",
       "      <td>0</td>\n",
       "      <td>2018-07-27T13:47:56Z</td>\n",
       "      <td>-5</td>\n",
       "      <td>2018-07-27 13:47:56</td>\n",
       "      <td>2018-07-27</td>\n",
       "      <td>13:47:56</td>\n",
       "    </tr>\n",
       "    <tr>\n",
       "      <th>4</th>\n",
       "      <td>PIF013333J6</td>\n",
       "      <td>2018-08-20T18:48:20Z</td>\n",
       "      <td>cfac45ee-95e8-4dc1-878a-9f404f7f9c99</td>\n",
       "      <td>0</td>\n",
       "      <td>2018-07-27T13:53:46Z</td>\n",
       "      <td>-5</td>\n",
       "      <td>2018-07-27 13:53:46</td>\n",
       "      <td>2018-07-27</td>\n",
       "      <td>13:53:46</td>\n",
       "    </tr>\n",
       "  </tbody>\n",
       "</table>\n",
       "</div>"
      ],
      "text/plain": [
       "            id            WRITESTAMP                                   SID  \\\n",
       "0  PIF013333J6  2018-08-20T17:50:57Z  cfac45ee-95e8-4dc1-878a-9f404f7f9c99   \n",
       "1  PIF013333J6  2018-08-20T16:36:34Z  cfac45ee-95e8-4dc1-878a-9f404f7f9c99   \n",
       "2  PIF013333J6  2018-08-20T17:06:07Z  cfac45ee-95e8-4dc1-878a-9f404f7f9c99   \n",
       "3  PIF013333J6  2018-08-20T19:21:25Z  cfac45ee-95e8-4dc1-878a-9f404f7f9c99   \n",
       "4  PIF013333J6  2018-08-20T18:48:20Z  cfac45ee-95e8-4dc1-878a-9f404f7f9c99   \n",
       "\n",
       "   VALUE             TIMESTAMP  TIMEZONE            DATETIME        DATE  \\\n",
       "0      0  2018-07-27T13:33:01Z        -5 2018-07-27 13:33:01  2018-07-27   \n",
       "1      0  2018-07-27T13:38:57Z        -5 2018-07-27 13:38:57  2018-07-27   \n",
       "2      0  2018-07-27T13:43:54Z        -5 2018-07-27 13:43:54  2018-07-27   \n",
       "3      0  2018-07-27T13:47:56Z        -5 2018-07-27 13:47:56  2018-07-27   \n",
       "4      0  2018-07-27T13:53:46Z        -5 2018-07-27 13:53:46  2018-07-27   \n",
       "\n",
       "       TIME  \n",
       "0  13:33:01  \n",
       "1  13:38:57  \n",
       "2  13:43:54  \n",
       "3  13:47:56  \n",
       "4  13:53:46  "
      ]
     },
     "execution_count": 64,
     "metadata": {},
     "output_type": "execute_result"
    }
   ],
   "source": [
    "df.head()"
   ]
  },
  {
   "cell_type": "code",
   "execution_count": 83,
   "metadata": {},
   "outputs": [],
   "source": [
    "###############extracting all files in a folder\n",
    "import boto3\n",
    "import pandas as pd\n",
    "from sagemaker import get_execution_role\n",
    "\n",
    "role = get_execution_role()\n",
    "bucket='ammitest'\n",
    "data_key = 'data'\n",
    "data_location = 's3://{}/{}'.format(bucket, data_key)"
   ]
  },
  {
   "cell_type": "code",
   "execution_count": 84,
   "metadata": {},
   "outputs": [
    {
     "data": {
      "text/plain": [
       "'s3://ammitest/data'"
      ]
     },
     "execution_count": 84,
     "metadata": {},
     "output_type": "execute_result"
    }
   ],
   "source": [
    "data_location"
   ]
  },
  {
   "cell_type": "code",
   "execution_count": 85,
   "metadata": {},
   "outputs": [],
   "source": [
    "file_paths = glob.glob('s3://ammitest/data/*.csv')"
   ]
  },
  {
   "cell_type": "code",
   "execution_count": 86,
   "metadata": {},
   "outputs": [
    {
     "data": {
      "text/plain": [
       "0"
      ]
     },
     "execution_count": 86,
     "metadata": {},
     "output_type": "execute_result"
    }
   ],
   "source": [
    "len(file_paths)"
   ]
  },
  {
   "cell_type": "code",
   "execution_count": 94,
   "metadata": {},
   "outputs": [],
   "source": [
    "import boto3\n",
    "s3 = boto3.resource('s3')\n",
    "\n",
    "## Bucket to use\n",
    "bucket = s3.Bucket('ammitest')\n",
    "\n",
    "## List objects within a given prefix\n",
    "for obj in bucket.objects.filter(Delimiter=',', Prefix='data/'):\n",
    "    file_paths=glob.glob(obj.key)"
   ]
  },
  {
   "cell_type": "code",
   "execution_count": 95,
   "metadata": {},
   "outputs": [
    {
     "data": {
      "text/plain": [
       "[]"
      ]
     },
     "execution_count": 95,
     "metadata": {},
     "output_type": "execute_result"
    }
   ],
   "source": [
    "file_paths"
   ]
  },
  {
   "cell_type": "code",
   "execution_count": 96,
   "metadata": {},
   "outputs": [
    {
     "data": {
      "text/plain": [
       "0"
      ]
     },
     "execution_count": 96,
     "metadata": {},
     "output_type": "execute_result"
    }
   ],
   "source": [
    "len(file_paths)"
   ]
  },
  {
   "cell_type": "code",
   "execution_count": 2,
   "metadata": {},
   "outputs": [
    {
     "ename": "NameError",
     "evalue": "name 'pd' is not defined",
     "output_type": "error",
     "traceback": [
      "\u001b[0;31m---------------------------------------------------------------------------\u001b[0m",
      "\u001b[0;31mNameError\u001b[0m                                 Traceback (most recent call last)",
      "\u001b[0;32m<ipython-input-2-13935ed8c464>\u001b[0m in \u001b[0;36m<module>\u001b[0;34m()\u001b[0m\n\u001b[1;32m      1\u001b[0m \u001b[0mL\u001b[0m \u001b[0;34m=\u001b[0m \u001b[0;34m[\u001b[0m\u001b[0;34m'Thanks You'\u001b[0m\u001b[0;34m,\u001b[0m \u001b[0;34m'Its fine no problem'\u001b[0m\u001b[0;34m,\u001b[0m \u001b[0;34m'Are you sure'\u001b[0m\u001b[0;34m]\u001b[0m\u001b[0;34m\u001b[0m\u001b[0m\n\u001b[0;32m----> 2\u001b[0;31m \u001b[0mdf\u001b[0m \u001b[0;34m=\u001b[0m \u001b[0mpd\u001b[0m\u001b[0;34m.\u001b[0m\u001b[0mDataFrame\u001b[0m\u001b[0;34m(\u001b[0m\u001b[0;34m{\u001b[0m\u001b[0;34m'col'\u001b[0m\u001b[0;34m:\u001b[0m\u001b[0mL\u001b[0m\u001b[0;34m}\u001b[0m\u001b[0;34m)\u001b[0m\u001b[0;34m\u001b[0m\u001b[0m\n\u001b[0m",
      "\u001b[0;31mNameError\u001b[0m: name 'pd' is not defined"
     ]
    }
   ],
   "source": [
    "L = ['Thanks You', 'Its fine no problem', 'Are you sure']\n",
    "df = pd.DataFrame({'col':L})"
   ]
  },
  {
   "cell_type": "code",
   "execution_count": 5,
   "metadata": {},
   "outputs": [
    {
     "ename": "NameError",
     "evalue": "name '__main__' is not defined",
     "output_type": "error",
     "traceback": [
      "\u001b[0;31m---------------------------------------------------------------------------\u001b[0m",
      "\u001b[0;31mNameError\u001b[0m                                 Traceback (most recent call last)",
      "\u001b[0;32m<ipython-input-5-b17a4a4f3c4f>\u001b[0m in \u001b[0;36m<module>\u001b[0;34m()\u001b[0m\n\u001b[1;32m      2\u001b[0m \u001b[0;32mdef\u001b[0m \u001b[0mprocessCalculation\u001b[0m\u001b[0;34m(\u001b[0m\u001b[0;34m)\u001b[0m\u001b[0;34m:\u001b[0m\u001b[0;34m\u001b[0m\u001b[0m\n\u001b[1;32m      3\u001b[0m     \u001b[0;32mreturn\u001b[0m \u001b[0;36m2\u001b[0m\u001b[0;34m+\u001b[0m\u001b[0;36m3\u001b[0m\u001b[0;34m\u001b[0m\u001b[0m\n\u001b[0;32m----> 4\u001b[0;31m \u001b[0;32mif\u001b[0m \u001b[0m__name__\u001b[0m \u001b[0;34m==\u001b[0m \u001b[0m__main__\u001b[0m\u001b[0;34m:\u001b[0m\u001b[0;34m\u001b[0m\u001b[0m\n\u001b[0m\u001b[1;32m      5\u001b[0m     \u001b[0mprocessCalculaton\u001b[0m\u001b[0;34m(\u001b[0m\u001b[0;34m)\u001b[0m\u001b[0;34m\u001b[0m\u001b[0m\n\u001b[1;32m      6\u001b[0m \u001b[0;34m\u001b[0m\u001b[0m\n",
      "\u001b[0;31mNameError\u001b[0m: name '__main__' is not defined"
     ]
    }
   ],
   "source": [
    "\n",
    "def processCalculation():\n",
    "    return 2+3\n",
    "if __name__ == __main__:\n",
    "    processCalculaton()\n",
    "    \n",
    "\n"
   ]
  },
  {
   "cell_type": "code",
   "execution_count": null,
   "metadata": {},
   "outputs": [],
   "source": []
  }
 ],
 "metadata": {
  "kernelspec": {
   "display_name": "Python 2",
   "language": "python",
   "name": "python2"
  },
  "language_info": {
   "codemirror_mode": {
    "name": "ipython",
    "version": 2
   },
   "file_extension": ".py",
   "mimetype": "text/x-python",
   "name": "python",
   "nbconvert_exporter": "python",
   "pygments_lexer": "ipython2",
   "version": "2.7.12"
  }
 },
 "nbformat": 4,
 "nbformat_minor": 2
}
